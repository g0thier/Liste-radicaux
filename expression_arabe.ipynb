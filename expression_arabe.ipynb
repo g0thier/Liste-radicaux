{
 "cells": [
  {
   "cell_type": "code",
   "execution_count": 1,
   "metadata": {},
   "outputs": [],
   "source": [
    "import pandas as pd\n",
    "from selenium import webdriver\n",
    "from selenium.webdriver.common.by import By\n",
    "import matplotlib.pyplot as plt\n",
    "from PIL import Image, ImageDraw, ImageFont\n",
    "import cairosvg\n",
    "\n",
    "# Configuration du navigateur\n",
    "options = webdriver.ChromeOptions()\n",
    "options.add_argument('headless')\n",
    "driver = webdriver.Chrome(options=options)"
   ]
  },
  {
   "cell_type": "code",
   "execution_count": 2,
   "metadata": {},
   "outputs": [],
   "source": [
    "data = pd.DataFrame(columns=['radical', 'notions'])\n",
    "\n",
    "driver.get('https://talkinarabic.com/arabic-words/')\n",
    "\n",
    "# Création des liens\n",
    "search_i = True ; i = 1\n",
    "while search_i:\n",
    "    try:\n",
    "        _ = driver.find_element(By.XPATH, f'//*[@id=\"__next\"]/div/div[1]/div[2]/div[3]/div/div[4]/table/tbody/tr[{i}]/td[1]').is_displayed()\n",
    "\n",
    "        try:\n",
    "            radical = driver.find_element(By.XPATH, f'//*[@id=\"__next\"]/div/div[1]/div[2]/div[3]/div/div[4]/table/tbody/tr[{i}]/td[1]').text\n",
    "            notions = driver.find_element(By.XPATH, f'//*[@id=\"__next\"]/div/div[1]/div[2]/div[3]/div/div[4]/table/tbody/tr[{i}]/td[2]').text\n",
    "\n",
    "        except:\n",
    "            radical = ''\n",
    "            notions = ''\n",
    "        \n",
    "        raw = {'radical': radical, 'notions': notions}\n",
    "        data = pd.concat([data, pd.DataFrame(raw, index=[0])], ignore_index=True)\n",
    "        i += 1\n",
    "    except:\n",
    "        search_i = False\n",
    "        \n",
    "data = data[(data['radical'] != '') & (data['notions'] != '')]"
   ]
  },
  {
   "cell_type": "code",
   "execution_count": 10,
   "metadata": {},
   "outputs": [],
   "source": [
    "data['notions'] = [text[:text.find(';')] if len(text) > 40 else text for text in data['notions']]\n",
    "data['notions'] = data['notions'].str.replace(';', ',')\n",
    "data['radical'] = [text[:text.find('،')] if len(text) > 12 else text for text in data['radical']]\n",
    "data['radical'] = [text[:text.find('/')] if len(text) > 12 else text for text in data['radical']]\n",
    "data['radical'] = data['radical'].str.replace('/', '، ')"
   ]
  },
  {
   "cell_type": "code",
   "execution_count": 12,
   "metadata": {},
   "outputs": [],
   "source": [
    "for index, row in data.iterrows():\n",
    "    radical = row['radical']\n",
    "    radical = radical[::-1]\n",
    "    notions = row['notions']\n",
    "\n",
    "    svg = f'''<?xml version=\"1.0\" encoding=\"UTF-8\" standalone=\"no\"?>\n",
    "    <!DOCTYPE svg PUBLIC \"-//W3C//DTD SVG 1.1//EN\" \"http://www.w3.org/Graphics/SVG/1.1/DTD/svg11.dtd\">\n",
    "    <svg width=\"100%\" height=\"100%\" viewBox=\"0 0 2880 1800\" version=\"1.1\" xmlns=\"http://www.w3.org/2000/svg\" xmlns:xlink=\"http://www.w3.org/1999/xlink\" xml:space=\"preserve\" xmlns:serif=\"http://www.serif.com/\" style=\"fill-rule:evenodd;clip-rule:evenodd;stroke-linejoin:round;stroke-miterlimit:2;\">\n",
    "        <rect x=\"0\" y=\"0\" width=\"2880\" height=\"1800\" style=\"fill:url(#_Linear1);\"/>\n",
    "        <g transform=\"matrix(1,0,0,1,-0,89.639)\">\n",
    "            <text x=\"50%\" y=\"810.361px\" text-anchor=\"middle\" style=\"font-family:'GeezaPro', 'Geeza Pro';font-size:500px;fill:url(#_Linear2);\">{radical}</text>\n",
    "        </g>\n",
    "        <g transform=\"matrix(1,0,0,1,-0,930.145)\">\n",
    "            <text x=\"50%\" y=\"480.484px\" text-anchor=\"middle\" style=\"font-family:'Optima-Regular', 'Optima';font-size:120px;fill:url(#_Linear3);\">{notions}</text>\n",
    "        </g>\n",
    "        <defs>\n",
    "            <linearGradient id=\"_Linear1\" x1=\"0\" y1=\"0\" x2=\"1\" y2=\"0\" gradientUnits=\"userSpaceOnUse\" gradientTransform=\"matrix(2880,0,0,2880,0,1091.57)\"><stop offset=\"0\" style=\"stop-color:rgb(255,144,26);stop-opacity:1\"/><stop offset=\"1\" style=\"stop-color:rgb(255,80,4);stop-opacity:1\"/></linearGradient>\n",
    "            <linearGradient id=\"_Linear2\" x1=\"0\" y1=\"0\" x2=\"1\" y2=\"0\" gradientUnits=\"userSpaceOnUse\" gradientTransform=\"matrix(2880,0,0,2880,1248.35,630.049)\"><stop offset=\"0\" style=\"stop-color:rgb(255,144,26);stop-opacity:1\"/><stop offset=\"1\" style=\"stop-color:rgb(255,200,67);stop-opacity:1\"/></linearGradient>\n",
    "            <linearGradient id=\"_Linear3\" x1=\"0\" y1=\"0\" x2=\"1\" y2=\"0\" gradientUnits=\"userSpaceOnUse\" gradientTransform=\"matrix(2880,0,0,2880,1248.35,630.049)\"><stop offset=\"0\" style=\"stop-color:rgb(89,1,39);stop-opacity:1\"/><stop offset=\"1\" style=\"stop-color:rgb(220,62,1);stop-opacity:1\"/></linearGradient>\n",
    "        </defs>\n",
    "    </svg>\n",
    "    '''\n",
    "\n",
    "    # Chemin de sortie pour l'image générée\n",
    "    chemin_image = f'/Users/gauthier/Documents/GitHub/arabe/radicaux/images/image{index}.png'\n",
    "\n",
    "    # Conversion du SVG en image\n",
    "    cairosvg.svg2png(bytestring=svg, write_to=chemin_image)"
   ]
  }
 ],
 "metadata": {
  "kernelspec": {
   "display_name": "Python 3",
   "language": "python",
   "name": "python3"
  },
  "language_info": {
   "codemirror_mode": {
    "name": "ipython",
    "version": 3
   },
   "file_extension": ".py",
   "mimetype": "text/x-python",
   "name": "python",
   "nbconvert_exporter": "python",
   "pygments_lexer": "ipython3",
   "version": "3.9.5"
  },
  "orig_nbformat": 4
 },
 "nbformat": 4,
 "nbformat_minor": 2
}

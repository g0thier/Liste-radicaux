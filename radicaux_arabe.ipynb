{
 "cells": [
  {
   "cell_type": "code",
   "execution_count": 4,
   "metadata": {},
   "outputs": [],
   "source": [
    "import pandas as pd\n",
    "from selenium import webdriver\n",
    "from selenium.webdriver.common.by import By\n",
    "import matplotlib.pyplot as plt\n",
    "from PIL import Image, ImageDraw, ImageFont\n",
    "import cairosvg\n",
    "\n",
    "# Configuration du navigateur\n",
    "options = webdriver.ChromeOptions()\n",
    "options.add_argument('headless')\n",
    "driver = webdriver.Chrome(options=options)\n",
    "\n",
    "pages = ['https://fr.wiktionary.org/w/index.php?title=Catégorie:Radicaux_en_arabe&pageuntil=ق+ي+م#mw-pages',\n",
    "         'https://fr.wiktionary.org/w/index.php?title=Catégorie:Radicaux_en_arabe&pagefrom=ق+ي+م#mw-pages']\n",
    "\n",
    "urls = []"
   ]
  },
  {
   "cell_type": "code",
   "execution_count": 5,
   "metadata": {},
   "outputs": [],
   "source": [
    "for page in pages:\n",
    "\n",
    "    driver.get(page)\n",
    "\n",
    "    # Création des liens\n",
    "    search_i = True ; i = 1\n",
    "    while search_i:\n",
    "        try:\n",
    "            _ = driver.find_element(By.XPATH, f'//*[@id=\"mw-pages\"]/div/div/div[{i}]/ul/li[1]/a').is_displayed()\n",
    "\n",
    "            search_j = True ; j = 1\n",
    "            while search_j:\n",
    "                try:\n",
    "                    urls.append(driver.find_element(By.XPATH, f'//*[@id=\"mw-pages\"]/div/div/div[{i}]/ul/li[{j}]/a').get_attribute('href'))\n",
    "                    j += 1\n",
    "\n",
    "                except:\n",
    "                    search_j = False\n",
    "            \n",
    "            i += 1\n",
    "        except:\n",
    "            search_i = False"
   ]
  },
  {
   "cell_type": "code",
   "execution_count": 6,
   "metadata": {},
   "outputs": [],
   "source": [
    "data = pd.DataFrame(columns=['url', 'radical', 'notions'])\n",
    "\n",
    "for url in urls:\n",
    "    driver.get(url)\n",
    "\n",
    "    try:\n",
    "        radical = driver.find_element(By.XPATH, '//*[@id=\"mw-content-text\"]/div[1]/dl/dd/b/bdi').text\n",
    "        notions = driver.find_element(By.XPATH, '//*[@id=\"mw-content-text\"]/div[1]/dl/dd/ol/li').text\n",
    "    except:\n",
    "        try:\n",
    "            radical = driver.find_element(By.XPATH, '//*[@id=\"mw-content-text\"]/div[1]/dl[2]/dd/b/bdi').text\n",
    "            notions = driver.find_element(By.XPATH, '//*[@id=\"mw-content-text\"]/div[1]/dl[2]/dd/ol/li').text\n",
    "        except:\n",
    "            radical = ''\n",
    "            notions = ''\n",
    "\n",
    "    raw = {'url': page, 'radical': radical, 'notions': notions}\n",
    "    data = pd.concat([data, pd.DataFrame(raw, index=[0])], ignore_index=True)\n",
    "\n",
    "data = data[(data['radical'] != '') & (data['notions'] != '')]"
   ]
  },
  {
   "cell_type": "code",
   "execution_count": 17,
   "metadata": {},
   "outputs": [],
   "source": [
    "for index, row in data.iterrows():\n",
    "    radical = row['radical']\n",
    "    radical = radical[::-1]\n",
    "    notions = row['notions']\n",
    "\n",
    "    svg = f'''<?xml version=\"1.0\" encoding=\"UTF-8\" standalone=\"no\"?>\n",
    "    <!DOCTYPE svg PUBLIC \"-//W3C//DTD SVG 1.1//EN\" \"http://www.w3.org/Graphics/SVG/1.1/DTD/svg11.dtd\">\n",
    "    <svg width=\"100%\" height=\"100%\" viewBox=\"0 0 2880 1800\" version=\"1.1\" xmlns=\"http://www.w3.org/2000/svg\" xmlns:xlink=\"http://www.w3.org/1999/xlink\" xml:space=\"preserve\" xmlns:serif=\"http://www.serif.com/\" style=\"fill-rule:evenodd;clip-rule:evenodd;stroke-linejoin:round;stroke-miterlimit:2;\">\n",
    "        <rect x=\"0\" y=\"0\" width=\"2880\" height=\"1800\" style=\"fill:url(#_Linear1);\"/>\n",
    "        <g transform=\"matrix(1,0,0,1,-0,89.639)\">\n",
    "            <text x=\"50%\" y=\"810.361px\" text-anchor=\"middle\" style=\"font-family:'Damascus';font-size:600px;fill:url(#_Linear2);\">{radical}</text>\n",
    "        </g>\n",
    "        <g transform=\"matrix(1,0,0,1,-0,930.145)\">\n",
    "            <text x=\"50%\" y=\"480.484px\" text-anchor=\"middle\" style=\"font-family:'Optima-Regular', 'Optima';font-size:120px;fill:url(#_Linear3);\">{notions}</text>\n",
    "        </g>\n",
    "        <defs>\n",
    "            <linearGradient id=\"_Linear1\" x1=\"0\" y1=\"0\" x2=\"1\" y2=\"0\" gradientUnits=\"userSpaceOnUse\" gradientTransform=\"matrix(2880,0,0,2880,0,1091.57)\"><stop offset=\"0\" style=\"stop-color:rgb(255,144,26);stop-opacity:1\"/><stop offset=\"1\" style=\"stop-color:rgb(255,80,4);stop-opacity:1\"/></linearGradient>\n",
    "            <linearGradient id=\"_Linear2\" x1=\"0\" y1=\"0\" x2=\"1\" y2=\"0\" gradientUnits=\"userSpaceOnUse\" gradientTransform=\"matrix(2880,0,0,2880,1248.35,630.049)\"><stop offset=\"0\" style=\"stop-color:rgb(255,144,26);stop-opacity:1\"/><stop offset=\"1\" style=\"stop-color:rgb(255,200,67);stop-opacity:1\"/></linearGradient>\n",
    "            <linearGradient id=\"_Linear3\" x1=\"0\" y1=\"0\" x2=\"1\" y2=\"0\" gradientUnits=\"userSpaceOnUse\" gradientTransform=\"matrix(2880,0,0,2880,1248.35,630.049)\"><stop offset=\"0\" style=\"stop-color:rgb(89,1,39);stop-opacity:1\"/><stop offset=\"1\" style=\"stop-color:rgb(220,62,1);stop-opacity:1\"/></linearGradient>\n",
    "        </defs>\n",
    "    </svg>\n",
    "    '''\n",
    "\n",
    "    # Chemin de sortie pour l'image générée\n",
    "    chemin_image = f'/Users/gauthier/Desktop/radicaux/images/image{index}.png'\n",
    "\n",
    "    # Conversion du SVG en image\n",
    "    cairosvg.svg2png(bytestring=svg, write_to=chemin_image)"
   ]
  }
 ],
 "metadata": {
  "kernelspec": {
   "display_name": "Python 3",
   "language": "python",
   "name": "python3"
  },
  "language_info": {
   "codemirror_mode": {
    "name": "ipython",
    "version": 3
   },
   "file_extension": ".py",
   "mimetype": "text/x-python",
   "name": "python",
   "nbconvert_exporter": "python",
   "pygments_lexer": "ipython3",
   "version": "3.9.5"
  },
  "orig_nbformat": 4
 },
 "nbformat": 4,
 "nbformat_minor": 2
}
